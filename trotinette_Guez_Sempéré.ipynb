{
 "cells": [
  {
   "cell_type": "markdown",
   "metadata": {},
   "source": [
    "# **MDI230 - PROJET TROTTINETTES** \n",
    "GUEZ ELIOT, SEMPERE LUCAS\n",
    "\n",
    "----------------"
   ]
  },
  {
   "cell_type": "markdown",
   "metadata": {},
   "source": [
    "### **Question 1:**  \n",
    "Proposez un processus de Markov permettant de modéliser ce système à partir d'un modèle de Markov vu en cours. Vous préciserez l'espace d'état et les différentes paramètres du systèmes, vous pouvez vous aider d'un diagramme de transition.\n",
    "\n",
    "### **Réponse:**\n",
    "On propose le processus de Markov, qui suit un modèle de colonies pour modéliser le système de trottinettes.\n",
    "Il y a 4 états possibles, qui sont les suivants:\n",
    "- C1: trottinettes libre\n",
    "- C2: trottinettes utilisées\n",
    "- C3: trottinettes en recharge\n",
    "- C4: trottinettes en réparation\n",
    "\n",
    "Il y a donc N trottinettes dans le système, et on a l'espace d'état $ E=  \\{ n= (n_1, n_2, n_3, n_4) | \\sum_{i=1}^4 n_i =N \\} $.\n",
    "\n",
    "On a les probabilités de transitions suivantes :\n",
    "\n",
    "- $ q_{12} = \\lambda  1_{n_1 > 0} $\n",
    "- $ q_{21} = \\frac {1- p_{panne}- p_{vide}} {t_{trajet}} n_2  $\n",
    "- $ q_{23} = \\frac {p_{vide}} {t_{trajet}} n_2  $\n",
    "- $ q_{24} = \\frac {p_{panne}} {t_{trajet}} n_2  $\n",
    "- $ q_{31} = \\frac  {1}{t_{intervention} + t_{recharge}} n_3  $\n",
    "- $ q_{41} = \\frac  {1}{t_{intervention} + t_{réparation}} n_4  $\n",
    "\n",
    "<img src=\"diagramme_transition.jpeg\" alt=\"Diagramme de transition\" width=\"30%\" />\n",
    "\n",
    "\n"
   ]
  },
  {
   "cell_type": "markdown",
   "metadata": {},
   "source": [
    "-------------"
   ]
  },
  {
   "cell_type": "markdown",
   "metadata": {},
   "source": [
    "### **Question 2:**  \n",
    "Calibrez votre modèle en explicitant vos paramètres en fonction des données de l'énoncé. \n",
    "\n",
    "Données : \n",
    "- $N = 100$\n",
    "- $\\lambda = 0.1 min^{-1}$\n",
    "- $t_{trajet} = 5 min$\n",
    "- $p_{panne} = 0.01$\n",
    "- $p_{vide} = 0.1$\n",
    "- $t_{intervention} = 30 min$\n",
    "- $t_{recharge} = 240 min$\n",
    "- $t_{réparation} = 720 min$\n",
    "\n",
    "### **Réponse:**"
   ]
  },
  {
   "cell_type": "code",
   "execution_count": 60,
   "metadata": {},
   "outputs": [],
   "source": [
    "# on code le modèle précédent \n",
    "\n",
    "import numpy as np\n",
    "import matplotlib.pyplot as plt\n",
    "from scipy import stats\n",
    "import pandas as pd\n",
    "\n",
    "# on charge les données\n",
    "N = 100\n",
    "lamb = 0.1\n",
    "t_trajet = 5\n",
    "p_panne = 0.01\n",
    "p_vide = 0.1\n",
    "t_intervention = 30\n",
    "t_recharge = 240\n",
    "t_réparation = 720 \n",
    "\n",
    "# on crée les matrices de transition\n",
    "lamb_12 = lamb\n",
    "lamb_21 = 1/ t_trajet * ( 1- p_panne - p_vide)\n",
    "lamb_31 = 1/ (t_intervention + t_recharge) \n",
    "lamb_41 = 1/ (t_intervention + t_réparation)\n",
    "lamb_23 = 1/ t_trajet * p_vide\n",
    "lamb_24 = 1/ t_trajet * p_panne"
   ]
  },
  {
   "cell_type": "markdown",
   "metadata": {},
   "source": [
    "---------------------------------"
   ]
  },
  {
   "cell_type": "markdown",
   "metadata": {},
   "source": [
    "### **Question 3:**  \n",
    "Donnez l’expression de la probabilité stationnaire théorique de votre modèle\n",
    "\n",
    "### **Réponse:**\n",
    "La probabilié stationnaire est donnée par l'équation suivante:\n",
    "$$\n",
    "\\pi(n_1, n_2, n_3, n_4) = \\frac 1 K \\prod_{j=1}^4 \\frac {\\alpha_j^{n_j}} {\\prod_{m=1}^{n_j} \\phi_j(m)}\n",
    "$$\n",
    "où K est une constante de normalisation, et les $\\alpha_j$ sont les solutions des équations de traffics suivantes :\n",
    "$$\n",
    "\\alpha_j >0 \\\\\n",
    "1\\leq j \\leq 4 \\\\\n",
    "\\sum_{j=1}^4 \\alpha_j = 1\n",
    "$$\n",
    "$$\n",
    "\\alpha_j \\sum_{i=1}^4 \\lambda_{ji} = \\sum_{k=1, k \\ne j}^4 \\lambda_{kj} \\alpha_k\n",
    "$$\n",
    "$$\n",
    "\\pi(n) = \\frac 1 K \\alpha_1^{n_1} \\frac {\\alpha_2^{n_2}} {n_2!} \\frac {\\alpha_3^{n_3}} {n_3!} \\frac {\\alpha_4^{n_4}} {n_4!}\n",
    "$$\n",
    "\n",
    "Les 4 équations de traffic sont donc :\n",
    "\n",
    "\\begin{cases}\n",
    "\\alpha_1 \\lambda = \\frac {1- p_{panne}- p_{vide}} {t_{trajet}} \\alpha_2 +\\alpha_3 \\frac 1 {t_{intervention} + t_{rechange}} + \\alpha_4 \\frac 1 {t_{intervention} + t_{réparation}} \\\\\n",
    "\\frac {\\alpha_2} {t_{trajet}} = \\alpha_1 \\lambda \\\\\n",
    "\\alpha_3 \\frac 1 {t_{intervention} + t_{recharge}} = \\alpha_2 \\frac {p_{vide}} {t_{trajet}} \\\\\n",
    "\\alpha_4 \\frac 1 {t_{intervention} + t_{réparation}} = \\alpha_2 \\frac {p_{panne}} {t_{trajet}} \\\\\n",
    "\\end{cases}\n",
    "\n",
    "Ou encore :\n",
    "\\begin{cases}\n",
    "\\alpha_1 \\lambda = \\frac {1- p_{panne}- p_{vide}} {t_{trajet}} \\alpha_2 +\\alpha_3 \\frac 1 {t_{intervention} + t_{rechange}} + \\alpha_4 \\frac 1 {t_{intervention} + t_{réparation}} \\\\\n",
    "\\alpha_2 = \\alpha_1 \\lambda t_{trajet} \\\\\n",
    "\\alpha_3  = \\alpha_2 \\frac {t_{intervention} + t_{recharge}} {t_{trajet}} p_{vide} \\\\\n",
    "\\alpha_4  = \\alpha_2 \\frac {t_{intervention} + t_{réparation}} {t_{trajet}} p_{panne}\\\\\n",
    "\\end{cases}\n",
    "On a ainsi :\n",
    "\\begin{cases}\n",
    "\\alpha_1 \\lambda = \\frac {1- p_{panne}- p_{vide}} {t_{trajet}} \\alpha_2 +\\alpha_3 \\frac 1 {t_{intervention} + t_{rechange}} + \\alpha_4 \\frac 1 {t_{intervention} + t_{réparation}} \\\\\n",
    "\\alpha_2 = \\alpha_1 \\lambda t_{trajet} \\\\\n",
    "\\alpha_3  = \\alpha_1 \\lambda (t_{intervention} + t_{recharge}) p_{vide} \\\\\n",
    "\\alpha_4  = \\alpha_1 \\lambda (t_{intervention} + t_{réparation}) p_{panne} \\\\\n",
    "\\end{cases}\n",
    "\n",
    "Puis :\n",
    "\\begin{cases}\n",
    "\\alpha_1 \\lambda = \\frac {1- p_{panne}- p_{vide}} {t_{trajet}} \\alpha_1 \\lambda t_{trajet} + \\alpha_1 \\lambda p_{vide} + \\alpha_1 \\lambda p_{panne}  \\\\\n",
    "\\alpha_2 = \\alpha_1 \\lambda t_{trajet} \\\\\n",
    "\\alpha_3  = \\alpha_1 \\lambda (t_{intervention} + t_{recharge}) p_{vide}\\\\\n",
    "\\alpha_4  = \\alpha_1 \\lambda (t_{intervention} + t_{réparation}) p_{panne} \\\\\n",
    "\\end{cases}\n",
    "\n",
    "Enfin : \n",
    "\\begin{cases}\n",
    "\\alpha_1 \\lambda = \\alpha_1 \\lambda \\\\\n",
    "\\alpha_2 = \\alpha_1 \\lambda t_{trajet} \\\\\n",
    "\\alpha_3  = \\alpha_1 \\lambda (t_{intervention} + t_{recharge}) p_{vide}\\\\\n",
    "\\alpha_4  = \\alpha_1 \\lambda (t_{intervention} + t_{réparation}) p_{panne} \\\\\n",
    "\\end{cases}\n",
    "\n",
    "La première équation ne donne aucune information on utilise le fait que la somme des $\\alpha_j$ est égale à 1 pour trouver les valeurs des $\\alpha_j$.\n",
    "\n",
    "On trouve alors :\n",
    "$$\n",
    "\\alpha_1 (1 + \\lambda t_{trajet} + \\lambda (t_{intervention} + t_{recharge}) p_{vide} + \\lambda (t_{intervention} + t_{réparation}) p_{panne}) = 1 \\\\\n",
    "$$\n",
    "\n",
    "$$\n",
    "\\alpha_1 = \\frac 1 {1 + \\lambda t_{trajet} + \\lambda (t_{intervention} + t_{recharge}) p_{vide} + \\lambda (t_{intervention} + t_{réparation}) p_{panne}} \\\\\n",
    "$$\n",
    "\n",
    "\\begin{cases}\n",
    "\\alpha_1 = \\frac 1 {1 + \\lambda t_{trajet} + \\lambda (t_{intervention} + t_{recharge}) p_{vide} + \\lambda (t_{intervention} + t_{réparation}) p_{panne}} \\\\\n",
    "\\\\\n",
    "\\alpha_2 = \\frac {\\lambda t_{trajet}} {1 + \\lambda t_{trajet} + \\lambda (t_{intervention} + t_{recharge}) p_{vide} + \\lambda (t_{intervention} + t_{réparation}) p_{panne}} \\\\\n",
    "\\\\\n",
    "\\alpha_3 = \\frac {\\lambda (t_{intervention} + t_{recharge}) p_{vide}} {1 + \\lambda t_{trajet} + \\lambda (t_{intervention} + t_{recharge}) p_{vide} + \\lambda (t_{intervention} + t_{réparation}) p_{panne}} \\\\\n",
    "\\\\\n",
    "\\alpha_4 = \\frac {\\lambda (t_{intervention} + t_{réparation}) p_{panne}} {1 + \\lambda t_{trajet} + \\lambda (t_{intervention} + t_{recharge}) p_{vide} + \\lambda (t_{intervention} + t_{réparation}) p_{panne}} \\\\\n",
    "\\end{cases}\n",
    "\n",
    "Ainsi avec les calculs numériques on trouve les valeurs théoriques des $\\alpha_j$:\n",
    "\\begin{cases}\n",
    "\\alpha_1 = \\frac 1 {4.95} \\approx 0.2 \\\\\n",
    "\\alpha_2 = \\frac {0.5} {4.95} \\approx 0.1 \\\\\n",
    "\\alpha_3 = \\frac {2.7} {4.95} \\approx 0.55 \\\\\n",
    "\\alpha_4 = \\frac {0.75} {4.95} \\approx 0.15 \\\\\n",
    "\\end{cases}\n",
    "Dans la cellule ci-dessous on va calculer les valeurs numériques pour vérifier via numpy\n",
    "\n",
    "---------------------------------\n"
   ]
  },
  {
   "cell_type": "code",
   "execution_count": 61,
   "metadata": {},
   "outputs": [
    {
     "name": "stdout",
     "output_type": "stream",
     "text": [
      "Alphas:  [0.2020202  0.1010101  0.54545455 0.15151515]\n",
      "1.0\n"
     ]
    }
   ],
   "source": [
    "A = np.array([[-lamb_12,lamb_21 + lamb_23 + lamb_24, 0 ,0],\n",
    "              [0,-lamb_23,lamb_31,0],\n",
    "              [0,-lamb_24, 0, lamb_41],\n",
    "              [1,1,1,1]] )\n",
    "\n",
    "alphas = np.linalg.solve(A, np.array([0,0,0,1]))\n",
    "\n",
    "print(\"Alphas: \", alphas)\n",
    "print(np.sum(alphas))\n"
   ]
  },
  {
   "cell_type": "markdown",
   "metadata": {},
   "source": [
    "Les résultats sont les mêmes ce qui est très rassurant.\n",
    "\n",
    "----------------"
   ]
  },
  {
   "cell_type": "markdown",
   "metadata": {},
   "source": [
    "### **Question 4:**  \n",
    "Simulate the trajectories of your model over at least 100 hours. \n",
    "\n",
    "### **Réponse:** \n"
   ]
  },
  {
   "cell_type": "code",
   "execution_count": 62,
   "metadata": {},
   "outputs": [],
   "source": [
    "def new_state(state, lambda_tot, transition_matrix):\n",
    "    # Choose the next state\n",
    "    next = np.random.choice(np.arange(16), p=transition_matrix.flatten()/lambda_tot)\n",
    "    # Update the state\n",
    "    nstate = state.copy()\n",
    "    i = (next // 4)  #Line index\n",
    "    j = (next % 4)  #Column index\n",
    "\n",
    "    nstate[i] -= 1\n",
    "    nstate[j] += 1\n",
    "    return nstate\n",
    "\n",
    "\n",
    "def simulate(time):\n",
    "    state = np.array([N,0,0,0])\n",
    "    states = [state]\n",
    "    t = 0\n",
    "    T = [t] \n",
    "    while t < time:\n",
    "        # Create the transition matrix\n",
    "        transition_matrix = np.array([[0,lamb_12*(state[0]>0),0,0],\n",
    "                                  [lamb_21*state[1],0,lamb_23*state[1],lamb_24*state[1]],\n",
    "                                  [lamb_31*state[2],0,0,0],\n",
    "                                  [lamb_41*state[3],0,0,0]])\n",
    "        lambda_tot = np.sum(transition_matrix)\n",
    "        t_next = np.random.exponential(1/lambda_tot)\n",
    "        \n",
    "        if t + t_next > time:\n",
    "            break\n",
    "        t += t_next\n",
    "        T.append(t)\n",
    "        state = new_state(state, lambda_tot, transition_matrix)\n",
    "        states.append(state)\n",
    "    return states, T\n",
    "\n",
    "def plot_states(states, T):\n",
    "    plt.figure(figsize=(10,5))\n",
    "    T = np.array(T)\n",
    "    states = np.array(states)\n",
    "    plt.plot(T, states[:,0], label=\"Libre\")\n",
    "    plt.plot(T, states[:,1], label=\"En cours d'utilisation\")\n",
    "    plt.plot(T, states[:,2], label=\"En charge\")\n",
    "    plt.plot(T, states[:,3], label=\"En réparation\")\n",
    "    plt.legend()\n",
    "    plt.show()\n"
   ]
  },
  {
   "cell_type": "code",
   "execution_count": 63,
   "metadata": {},
   "outputs": [
    {
     "data": {
      "image/png": "[encoded data removed]",
      "text/plain": [
       "<Figure size 1000x500 with 1 Axes>"
      ]
     },
     "metadata": {},
     "output_type": "display_data"
    }
   ],
   "source": [
    "time = 100 * 60 \n",
    "states, T = simulate(time)\n",
    "plot_states(states, T)"
   ]
  },
  {
   "cell_type": "markdown",
   "metadata": {},
   "source": [
    "-------------------"
   ]
  },
  {
   "cell_type": "markdown",
   "metadata": {},
   "source": [
    "### **Question 5:**  \n",
    "Validez votre simulation grâce aux résultats théoriques. Pour cela, on limitera le nombre de trottinettes à N = 2. Vous devrez proposer deux manières d’approcher la probabilité stationnaire par vos simulations. On rappelle qu’une simulation est valide si les résultats théoriques sont dans l’intervalle de confiance des résultats simulés.\n",
    "\n",
    "### **Réponse:** \n",
    "\n",
    "On va appliquer les deux méthodes suivantes pour valider les résultats théoriques :\n",
    "- Méthode 1 : On va simuler le modèle sur une longue durée et on va comptabiliser les différents états à partir d'un certain moment pour calculer la probabilité stationnaire empirique.\n",
    "- Méthode 2 : On va simuler le modèle sur une longue durée plusieurs fois et récupérer le dernier état de chaque simulation pour calculer la probabilité stationnaire empirique.\n",
    "\n",
    "Théoriquement pour calculer les probabilités stationnaires on a :\n",
    "\n",
    "$$\n",
    "\\pi(n) = \\frac 1 K \\alpha_1^{n_1} \\frac {\\alpha_2^{n_2}} {n_2!} \\frac {\\alpha_3^{n_3}} {n_3!} \\frac {\\alpha_4^{n_4}} {n_4!}\n",
    "$$\n",
    "\n",
    "Pour n = 2 on a :\n",
    "- n = (2,0,0,0)\n",
    "- n = (0,2,0,0)\n",
    "- n = (0,0,2,0)\n",
    "- n = (0,0,0,2)\n",
    "- n = (1,1,0,0)\n",
    "- n = (1,0,1,0)\n",
    "- n = (1,0,0,1)\n",
    "- n = (0,1,1,0)\n",
    "- n = (0,1,0,1)\n",
    "- n = (0,0,1,1)\n",
    "\n",
    "\\begin{cases}\n",
    "\\alpha_1 = 0.2 \\\\\n",
    "\\alpha_2 = 0.1 \\\\\n",
    "\\alpha_3 = 0.55 \\\\\n",
    "\\alpha_4 = 0.15 \\\\\n",
    "\\end{cases}\n",
    "Ce qui nous donne les probabilités stationnaires suivantes :\n",
    "- $\\pi(2,0,0,0) = \\frac 1 K \\alpha_1^2 = \\frac 1 K  0.2^2 = \\frac 1 K 0.04$\n",
    "- $\\pi(0,2,0,0) = \\frac 1 K \\alpha_2^2 \\frac 1 2= \\frac 1 K  0.1^2 \\frac 1 2 = \\frac 1 K 0.005$\n",
    "- $\\pi(0,0,2,0) = \\frac 1 K \\alpha_3^2 \\frac 1 2 = \\frac 1 K  0.55^2 \\frac 1 2 = \\frac 1 K 0.15125$ \n",
    "- $\\pi(0,0,0,2) = \\frac 1 K \\alpha_4^2 \\frac 1 2 = \\frac 1 K  0.15^2 \\frac 1 2 = \\frac 1 K 0.01125$\n",
    "- $\\pi(1,1,0,0) = \\frac 1 K \\alpha_1 \\alpha_2 = \\frac 1 K  0.2*0.1 = \\frac 1 K 0.02$\n",
    "- $\\pi(1,0,1,0) = \\frac 1 K \\alpha_1 \\alpha_3 = \\frac 1 K  0.2*0.55 = \\frac 1 K 0.11$\n",
    "- $\\pi(1,0,0,1) = \\frac 1 K \\alpha_1 \\alpha_4 = \\frac 1 K  0.2*0.15 = \\frac 1 K 0.03$\n",
    "- $\\pi(0,1,1,0) = \\frac 1 K \\alpha_2 \\alpha_3 = \\frac 1 K  0.1*0.55 = \\frac 1 K 0.055$\n",
    "- $\\pi(0,1,0,1) = \\frac 1 K \\alpha_2 \\alpha_4 = \\frac 1 K  0.1*0.15 = \\frac 1 K 0.015$\n",
    "- $\\pi(0,0,1,1) = \\frac 1 K \\alpha_3 \\alpha_4 = \\frac 1 K  0.55*0.15 = \\frac 1 K 0.0825$\n",
    "\n",
    "On calcule K en sommant les probabilités stationnaires pour n = 2 :\n",
    "$$\n",
    "\\pi(2,0,0,0) + \\pi(0,2,0,0) + \\pi(0,0,2,0) + \\pi(0,0,0,2) + \\pi(1,1,0,0) + \\pi(1,0,1,0) + \\pi(1,0,0,1) + \\pi(0,1,1,0) + \\pi(0,1,0,1) + \\pi(0,0,1,1) = 1\n",
    "$$\n",
    "\n",
    "On a donc :\n",
    "$$\n",
    "\\frac 1 K (0.04 + 0.005 + 0.15125 + 0.01125 + 0.02 + 0.11 + 0.03 + 0.055 + 0.015 + 0.0825) = 1\n",
    "$$\n",
    "\n",
    "$$\n",
    "\\frac 1 K 0.52 = 1\n",
    "$$\n",
    "\n",
    "$$\n",
    "K = 0.52\n",
    "$$\n",
    "\n",
    "\n",
    "Finalement on obtient les probabilités stationnaires suivantes :\n",
    "\\begin{cases}\n",
    "\\pi(2,0,0,0) = 0.077 \\\\\n",
    "\\pi(0,2,0,0) = 0.010 \\\\\n",
    "\\pi(0,0,2,0) = 0.291 \\\\\n",
    "\\pi(0,0,0,2) = 0.022 \\\\\n",
    "\\pi(1,1,0,0) = 0.038 \\\\\n",
    "\\pi(1,0,1,0) = 0.211 \\\\\n",
    "\\pi(1,0,0,1) = 0.058 \\\\\n",
    "\\pi(0,1,1,0) = 0.106 \\\\\n",
    "\\pi(0,1,0,1) = 0.029 \\\\\n",
    "\\pi(0,0,1,1) = 0.159 \\\\\n",
    "\\end{cases}\n",
    "\n"
   ]
  },
  {
   "cell_type": "code",
   "execution_count": 64,
   "metadata": {},
   "outputs": [],
   "source": [
    "proba_theoriques = np.array([0.077, 0.010, 0.291, 0.022, 0.038, 0.211, 0.058, 0.106, 0.029, 0.0159 ])"
   ]
  },
  {
   "cell_type": "code",
   "execution_count": 65,
   "metadata": {},
   "outputs": [
    {
     "name": "stdout",
     "output_type": "stream",
     "text": [
      "Proba stationnaire empirique:  [0.6721 0.5739 0.6012 0.1528]\n"
     ]
    }
   ],
   "source": [
    "## Méthode 1 \n",
    "## On va simuler le modèle sur une longue durée et on va comptabiliser les différents états à partir d'un certain moment pour calculer la probabilité stationnaire empirique.\n",
    "N = 2\n",
    "time = 100 * 60 * 1000\n",
    "N_sample = 10000\n",
    "states, T = simulate(time)\n",
    "states = np.array(states)\n",
    "states = states[-N_sample:]\n",
    "proba = np.mean(states, axis=0)\n",
    "print(\"Proba stationnaire empirique: \", proba)"
   ]
  },
  {
   "cell_type": "code",
   "execution_count": 66,
   "metadata": {},
   "outputs": [
    {
     "name": "stdout",
     "output_type": "stream",
     "text": [
      "Proba stationnaire empirique:  [0.094 0.048 0.025 0.001 0.141 0.273 0.071 0.268 0.07  0.009]\n",
      "Proba stationnaire théorique:  [0.077 0.01  0.291 0.022 0.038 0.211 0.058 0.106 0.029 0.016]\n"
     ]
    }
   ],
   "source": [
    "possible_states = np.zeros(10)\n",
    "for state in states:\n",
    "    if np.array_equal(state,np.array([2,0,0,0])):\n",
    "        possible_states[0] +=1\n",
    "    if np.array_equal(state,np.array([0,2,0,0])):\n",
    "        possible_states[1] +=1\n",
    "    if np.array_equal(state,np.array([0,0,2,0])):\n",
    "        possible_states[2] +=1\n",
    "    if np.array_equal(state,np.array([0,0,0,2])):\n",
    "        possible_states[3] +=1\n",
    "    if np.array_equal(state,np.array([1,1,0,0])):\n",
    "        possible_states[4] +=1\n",
    "    if np.array_equal(state,np.array([1,0,1,0])):\n",
    "        possible_states[5] +=1\n",
    "    if np.array_equal(state,np.array([1,0,0,1])):\n",
    "        possible_states[6] +=1\n",
    "    if np.array_equal(state,np.array([0,1,1,0])):\n",
    "        possible_states[7] +=1\n",
    "    if np.array_equal(state,np.array([0,1,0,1])):\n",
    "        possible_states[8] +=1\n",
    "    if np.array_equal(state,np.array([0,0,1,1])):\n",
    "        possible_states[9] +=1\n",
    "\n",
    "# on normalise pour avoir des probas :\n",
    "possible_states = possible_states/N_sample\n",
    "print(\"Proba stationnaire empirique: \", np.round(possible_states,3))\n",
    "print(\"Proba stationnaire théorique: \", np.round(proba_theoriques,3))"
   ]
  },
  {
   "cell_type": "code",
   "execution_count": 67,
   "metadata": {},
   "outputs": [],
   "source": [
    "def methode1(N = 2, time = 60*100 , N_sample= 1000):\n",
    "    states, T = simulate(time)\n",
    "    states = np.array(states)\n",
    "    states = states[-N_sample:]\n",
    "    possible_states = np.zeros(10)\n",
    "    for state in states:\n",
    "        if np.array_equal(state,np.array([2,0,0,0])):\n",
    "            possible_states[0] +=1\n",
    "        if np.array_equal(state,np.array([0,2,0,0])):\n",
    "            possible_states[1] +=1\n",
    "        if np.array_equal(state,np.array([0,0,2,0])):\n",
    "            possible_states[2] +=1\n",
    "        if np.array_equal(state,np.array([0,0,0,2])):\n",
    "            possible_states[3] +=1\n",
    "        if np.array_equal(state,np.array([1,1,0,0])):\n",
    "            possible_states[4] +=1\n",
    "        if np.array_equal(state,np.array([1,0,1,0])):\n",
    "            possible_states[5] +=1\n",
    "        if np.array_equal(state,np.array([1,0,0,1])):\n",
    "            possible_states[6] +=1\n",
    "        if np.array_equal(state,np.array([0,1,1,0])):\n",
    "            possible_states[7] +=1\n",
    "        if np.array_equal(state,np.array([0,1,0,1])):\n",
    "            possible_states[8] +=1\n",
    "        if np.array_equal(state,np.array([0,0,1,1])):\n",
    "            possible_states[9] +=1\n",
    "    # on normalise pour avoir des probas :\n",
    "    possible_states = possible_states/N_sample"
   ]
  },
  {
   "cell_type": "markdown",
   "metadata": {},
   "source": [
    "La méthode 1 ne semble pas très bonne pour trouver le résultat stationnaires, cela peut-être du au fait que les résultats dépendent beaucoup de la première valeur de l'état où on observe le système."
   ]
  },
  {
   "cell_type": "code",
   "execution_count": 68,
   "metadata": {},
   "outputs": [
    {
     "name": "stderr",
     "output_type": "stream",
     "text": [
      "100%|██████████| 1000/1000 [00:26<00:00, 37.73it/s]\n"
     ]
    }
   ],
   "source": [
    "# Méthode 2: simulation du modèle sur une longue durée plusieurs fois\n",
    "from tqdm import tqdm\n",
    "def simulate_multiple(time, N, n_simulations):\n",
    "    final_state = []\n",
    "    for k in tqdm(range(n_simulations)):\n",
    "        states, T = simulate(time)\n",
    "        states = np.array(states)\n",
    "        final_state.append(states[-1])\n",
    "    return final_state\n",
    "\n",
    "n_simulations = 1000\n",
    "time = 100 * 30\n",
    "N = 2\n",
    "\n",
    "final_state = simulate_multiple(time, N, n_simulations)"
   ]
  },
  {
   "cell_type": "code",
   "execution_count": 69,
   "metadata": {},
   "outputs": [
    {
     "name": "stdout",
     "output_type": "stream",
     "text": [
      "Proba stationnaire empirique:  [0.089 0.011 0.284 0.017 0.039 0.204 0.056 0.118 0.029 0.153]\n",
      "Proba stationnaire théorique:  [0.077 0.01  0.291 0.022 0.038 0.211 0.058 0.106 0.029 0.016]\n"
     ]
    }
   ],
   "source": [
    "possible_states = np.zeros(10)\n",
    "for state in final_state:\n",
    "    if np.array_equal(state,np.array([2,0,0,0])):\n",
    "        possible_states[0] +=1\n",
    "    if np.array_equal(state,np.array([0,2,0,0])):\n",
    "        possible_states[1] +=1\n",
    "    if np.array_equal(state,np.array([0,0,2,0])):\n",
    "        possible_states[2] +=1\n",
    "    if np.array_equal(state,np.array([0,0,0,2])):\n",
    "        possible_states[3] +=1\n",
    "    if np.array_equal(state,np.array([1,1,0,0])):\n",
    "        possible_states[4] +=1\n",
    "    if np.array_equal(state,np.array([1,0,1,0])):\n",
    "        possible_states[5] +=1\n",
    "    if np.array_equal(state,np.array([1,0,0,1])):\n",
    "        possible_states[6] +=1\n",
    "    if np.array_equal(state,np.array([0,1,1,0])):\n",
    "        possible_states[7] +=1\n",
    "    if np.array_equal(state,np.array([0,1,0,1])):\n",
    "        possible_states[8] +=1\n",
    "    if np.array_equal(state,np.array([0,0,1,1])):\n",
    "        possible_states[9] +=1\n",
    "\n",
    "# on normalise pour avoir des probas :\n",
    "possible_states = possible_states/n_simulations\n",
    "print(\"Proba stationnaire empirique: \", np.round(possible_states,3))\n",
    "print(\"Proba stationnaire théorique: \", np.round(proba_theoriques,3))"
   ]
  },
  {
   "cell_type": "code",
   "execution_count": 94,
   "metadata": {},
   "outputs": [],
   "source": [
    "def methode_2(states):\n",
    "    possible_states = np.zeros(10)\n",
    "    for state in states:\n",
    "        if np.array_equal(state,np.array([2,0,0,0])):\n",
    "            possible_states[0] +=1\n",
    "        if np.array_equal(state,np.array([0,2,0,0])):\n",
    "            possible_states[1] +=1\n",
    "        if np.array_equal(state,np.array([0,0,2,0])):\n",
    "            possible_states[2] +=1\n",
    "        if np.array_equal(state,np.array([0,0,0,2])):\n",
    "            possible_states[3] +=1\n",
    "        if np.array_equal(state,np.array([1,1,0,0])):   \n",
    "            possible_states[4] +=1\n",
    "        if np.array_equal(state,np.array([1,0,1,0])):\n",
    "            possible_states[5] +=1\n",
    "        if np.array_equal(state,np.array([1,0,0,1])):\n",
    "            possible_states[6] +=1\n",
    "        if np.array_equal(state,np.array([0,1,1,0])):\n",
    "            possible_states[7] +=1\n",
    "        if np.array_equal(state,np.array([0,1,0,1])):\n",
    "            possible_states[8] +=1\n",
    "        if np.array_equal(state,np.array([0,0,1,1])):\n",
    "            possible_states[9] +=1\n",
    "    possible_states = np.round(possible_states/n_simulations, 3)\n",
    "    return possible_states"
   ]
  },
  {
   "cell_type": "markdown",
   "metadata": {},
   "source": [
    "Cette fois ci les résultats sont bien meilleurs, on retrouve à peu près les valeurs théoriques pour les probabilités stationnaires."
   ]
  },
  {
   "cell_type": "code",
   "execution_count": 96,
   "metadata": {},
   "outputs": [
    {
     "name": "stderr",
     "output_type": "stream",
     "text": [
      "100%|██████████| 1000/1000 [00:49<00:00, 20.30it/s]\n",
      "100%|██████████| 1000/1000 [00:44<00:00, 22.34it/s]\n",
      "100%|██████████| 1000/1000 [00:26<00:00, 38.31it/s]\n",
      "100%|██████████| 1000/1000 [00:32<00:00, 31.08it/s]\n",
      "100%|██████████| 1000/1000 [00:28<00:00, 35.50it/s]\n",
      "100%|██████████| 1000/1000 [00:29<00:00, 34.14it/s]\n",
      "100%|██████████| 1000/1000 [00:27<00:00, 36.67it/s]\n",
      "100%|██████████| 1000/1000 [00:26<00:00, 38.43it/s]\n",
      "100%|██████████| 1000/1000 [00:29<00:00, 34.45it/s]\n",
      "100%|██████████| 1000/1000 [00:27<00:00, 36.45it/s]\n"
     ]
    },
    {
     "data": {
      "text/plain": [
       "[[0.07662988539609893, 0.08477011460390109],\n",
       " [0.007919797481333484, 0.011080202518666515],\n",
       " [0.27947656615885097, 0.296523433841149],\n",
       " [0.01982470232389557, 0.02397529767610443],\n",
       " [0.03424226766667967, 0.04115773233332034],\n",
       " [0.20545479791702875, 0.22234520208297132],\n",
       " [0.052037281617702276, 0.06496271838229772],\n",
       " [0.09652618350782642, 0.11187381649217361],\n",
       " [0.025649404647791148, 0.033950595352208866],\n",
       " [0.14980640104407675, 0.1617935989559233]]"
      ]
     },
     "execution_count": 96,
     "metadata": {},
     "output_type": "execute_result"
    }
   ],
   "source": [
    "# calcul des intervalles de confiance méthode 2\n",
    "beta = 1.96 # alpha = 0.95\n",
    "def intervalle_confiance( n = 50):\n",
    "    results = []\n",
    "    for i in range(n):\n",
    "        final_state = simulate_multiple(time, N, n_simulations)\n",
    "        r = methode_2(final_state)\n",
    "        results.append(r)\n",
    "    mean = 1/n * np.sum(results, axis=0)\n",
    "    std = np.sqrt(1/(n-1) * np.sum((results - mean)**2, axis=0))\n",
    "    inf = mean - beta * std/np.sqrt(n)\n",
    "    sup = mean + beta * std/np.sqrt(n)\n",
    "    confidence = [[inf[k],sup[k]] for k in range(10)]\n",
    "    return confidence\n",
    "\n",
    "intervalle_confiance(10)"
   ]
  },
  {
   "cell_type": "markdown",
   "metadata": {},
   "source": [
    "Proba stationnaire théorique:  [0.077 0.01  0.291 0.022 0.038 0.211 0.058 0.106 0.029 0.016]   \n",
    "\n",
    "Tout les résultats théoriques semblent être validés par cette intervalle à 95% de confiance.\n",
    "\n",
    "\n",
    "-----------------------------"
   ]
  },
  {
   "cell_type": "markdown",
   "metadata": {},
   "source": [
    "### **Question 6:** \n",
    "Que faudrait-il changer au modèle si on considérait qu’il y a un nombre fini de prestataires np et un nombre fini de techniciens nt ?  \n",
    "\n",
    "### **Réponse:**\n"
   ]
  },
  {
   "cell_type": "markdown",
   "metadata": {},
   "source": [
    "Dans le cas où les effectifs des prestataires de services et des techniciens seraient restreints, il conviendrait de considérer que le nombre de trottinettes dans les colonies 3 et 4 est limité à des seuils spécifiques. Il faudrait donc créer deux nouveaux états ou ses colonies irait en attente lorsque  tout els techniciens ou prestataires sont occupés. Ainsi, les individus nécessitant une maintenance ou une recharge seraient temporairement stationnés dans ces zones jusqu'à ce qu'une place se libère dans les colonies mentionnées.\n",
    "\n",
    "\n",
    "\n",
    "\n",
    "--------"
   ]
  },
  {
   "cell_type": "markdown",
   "metadata": {},
   "source": [
    "### **Question 7:**\n",
    "Que faudrait-il changer au modèle si on considérait qu’une trottinette pouvait devenir irréparable avec une probabilité pi ?\n",
    "\n",
    "### **Réponse:**\n",
    "Il fraudrait créer un nouvelle état où irait ses trottinettes avec une probabiltié de transition $n_2 \\frac  {p_i} {t_trajet}$ cependant elle ne ressortirai jamais de cette état.  \n"
   ]
  },
  {
   "cell_type": "markdown",
   "metadata": {},
   "source": [
    "---\n",
    "Remarques de la prof à revoir :\n",
    "---\n",
    "\n",
    "Question 5 : il fallait calculer la probabilité stationnaire théorique et la comparer à la probabilité stationnaire obtenue par simulation. Ce que vous avez fait est correct dans la deuxième méthode pour approcher la probabilité stationnaire en prenant la valeur du dernier état, c’est l’application du théorème asymptotique. En revanche, la première méthode ne fonctionne pas, car vous comptez juste la fréquence d’apparition des états sans regarder le temps passé par chaque état, donc en fait vous évaluez la probabilité stationnaire de la chaine de Markov incluse, et non pas celle du processus de Markov.\n",
    "\n",
    "Question 6 : Si on a un nombre fini de prestataire ou technicien, vous proposez de créer des colonies d’attente pour les trottinettes avant d’être prise en charges par un prestataire ou technicien en fonction du besoin. Et une trottinette passerait ensuite dans la colonie suivante dès qu’un prestataire ou technicien se libère. Ce qui veut dire que le taux de départ de la colonie d’attente dépend du nombre d’individus dans la colonie de réparation/recharge. Ce n’est pas possible selon le modèle de colonies : le taux de transition ne doit dépendre que du nombre d’individus dans la colonie de départ. Sinon ce n’est plus Markovien, car la transition d’un état à un autre ne dépend pas que de l’état courant, et donc on ne peut plus faire aucun calcul.\n",
    "Une solution possible est de ne pas changer les colonies initiales. On change juste le taux de transition de la colonie réparation à la colonie libre : au lieu de valoir $n_4 * \\frac 1 {t_{intervention} + t_{reparation}}$ selon votre modèle, il vaudrait $min (n_4,n_t)\\frac 1 {t_{intervention} + t_{reparation}}$. La fonction $phi(n_4)$ ne dépend bien que de la colonie 4, car $n_t$ est un paramètre fixe du problème. En gros, ce qu’il faut limiter c’est pas le nombre de trottinettes dans la colonie mais leurs transitions entre les colonies. Si tous les techniciens sont pris, alors le taux de transition n’augmente plus avec le nombre de trottinettes (comme dans une file à attente M/MS/infini).\n",
    "\n",
    "Question 7 : Si une trottinette peut être irréparable, alors on peut certes créer une nouvelle colonie de laquelle les trottinettes ne peuvent plus sortir. Mais le problème c’est que le graphe de transition entre colonies n’est plus irréductible et donc le processus n’est plus Markovien. Ce qu’il faut c’est considérer un processus à migration ouvert (les colonies sont un processus à migration fermé), où les individus peuvent arriver et sortir du système."
   ]
  },
  {
   "cell_type": "markdown",
   "metadata": {},
   "source": []
  }
 ],
 "metadata": {
  "kernelspec": {
   "display_name": "Python 3",
   "language": "python",
   "name": "python3"
  },
  "language_info": {
   "codemirror_mode": {
    "name": "ipython",
    "version": 3
   },
   "file_extension": ".py",
   "mimetype": "text/x-python",
   "name": "python",
   "nbconvert_exporter": "python",
   "pygments_lexer": "ipython3",
   "version": "3.9.5"
  }
 },
 "nbformat": 4,
 "nbformat_minor": 2
}
